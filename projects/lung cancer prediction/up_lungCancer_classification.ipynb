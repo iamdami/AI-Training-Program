{
  "metadata": {
    "kernelspec": {
      "language": "python",
      "display_name": "Python 3",
      "name": "python3"
    },
    "language_info": {
      "name": "python",
      "version": "3.7.10",
      "mimetype": "text/x-python",
      "codemirror_mode": {
        "name": "ipython",
        "version": 3
      },
      "pygments_lexer": "ipython3",
      "nbconvert_exporter": "python",
      "file_extension": ".py"
    },
    "colab": {
      "name": "lungCancer-classification.ipynb",
      "provenance": [],
      "collapsed_sections": []
    }
  },
  "nbformat_minor": 0,
  "nbformat": 4,
  "cells": [
    {
      "cell_type": "code",
      "source": [
        "import pandas as pd\n",
        "import numpy as np\n",
        "import seaborn as sns\n",
        "import matplotlib\n",
        "import matplotlib.pyplot as plt\n",
        "from matplotlib import rc\n",
        "from sklearn.preprocessing import LabelEncoder\n",
        "from sklearn.preprocessing import MinMaxScaler\n",
        "from sklearn.model_selection import train_test_split\n",
        "from sklearn.metrics import mean_absolute_error\n",
        "from sklearn.tree import DecisionTreeClassifier\n",
        "from sklearn.ensemble import RandomForestClassifier\n",
        "from sklearn import metrics\n",
        "from sklearn.linear_model import LogisticRegression\n",
        "from sklearn.neighbors import KNeighborsClassifier\n",
        "from sklearn.svm import SVC\n",
        "from xgboost import XGBClassifier\n",
        "from tensorflow.keras.layers import *\n",
        "from tensorflow.keras.models import *\n",
        "from tensorflow.keras.optimizers import *\n",
        "from tensorflow.keras.callbacks import LearningRateScheduler\n",
        "from tensorflow.keras.callbacks import EarlyStopping\n",
        "\n",
        "sns.set_theme()\n",
        "plt.rcParams['font.family'] = 'NanumGothic'  # 개선 예정"
      ],
      "metadata": {
        "_uuid": "8f2839f25d086af736a60e9eeb907d3b93b6e0e5",
        "_cell_guid": "b1076dfc-b9ad-4769-8c92-a6c4dae69d19",
        "execution": {
          "iopub.status.busy": "2021-10-04T20:26:50.126976Z",
          "iopub.execute_input": "2021-10-04T20:26:50.127584Z",
          "iopub.status.idle": "2021-10-04T20:26:50.136418Z",
          "shell.execute_reply.started": "2021-10-04T20:26:50.127548Z",
          "shell.execute_reply": "2021-10-04T20:26:50.135557Z"
        },
        "trusted": true,
        "id": "XH6ACsni-7W3"
      },
      "execution_count": 49,
      "outputs": []
    },
    {
      "cell_type": "markdown",
      "source": [
        "아래 코드는 seaborn에서 한글 깨짐 현상 발생해서 ㅠㅡㅠ,,  \n",
        "-> 개선 예정"
      ],
      "metadata": {
        "id": "FstW_45Dbg8K"
      }
    },
    {
      "cell_type": "code",
      "source": [
        "import matplotlib.font_manager as fm\n",
        "\n",
        "# 설치된 폰트 출력\n",
        "font_list = [font.name for font in fm.fontManager.ttflist]\n",
        "font_list"
      ],
      "metadata": {
        "id": "kdSadB-6KiRJ"
      },
      "execution_count": null,
      "outputs": []
    },
    {
      "cell_type": "markdown",
      "source": [
        "# 데이터 읽어오기"
      ],
      "metadata": {
        "id": "Sh3ZAiIm-7W9"
      }
    },
    {
      "cell_type": "code",
      "source": [
        "df = pd.read_csv(\"./survey lung cancer.csv\")\n",
        "\n",
        "df.head()"
      ],
      "metadata": {
        "_kg_hide-input": true,
        "execution": {
          "iopub.status.busy": "2021-10-04T20:26:50.138299Z",
          "iopub.execute_input": "2021-10-04T20:26:50.138546Z",
          "iopub.status.idle": "2021-10-04T20:26:50.170766Z",
          "shell.execute_reply.started": "2021-10-04T20:26:50.138518Z",
          "shell.execute_reply": "2021-10-04T20:26:50.170211Z"
        },
        "trusted": true,
        "colab": {
          "base_uri": "https://localhost:8080/",
          "height": 287
        },
        "id": "eL-CNgoC-7W-",
        "outputId": "25e6900f-c782-48d6-d877-8111b2787e00"
      },
      "execution_count": 51,
      "outputs": [
        {
          "output_type": "execute_result",
          "data": {
            "text/html": [
              "\n",
              "  <div id=\"df-a3e4b8bb-98b6-440c-9b7d-0d31238e36ec\">\n",
              "    <div class=\"colab-df-container\">\n",
              "      <div>\n",
              "<style scoped>\n",
              "    .dataframe tbody tr th:only-of-type {\n",
              "        vertical-align: middle;\n",
              "    }\n",
              "\n",
              "    .dataframe tbody tr th {\n",
              "        vertical-align: top;\n",
              "    }\n",
              "\n",
              "    .dataframe thead th {\n",
              "        text-align: right;\n",
              "    }\n",
              "</style>\n",
              "<table border=\"1\" class=\"dataframe\">\n",
              "  <thead>\n",
              "    <tr style=\"text-align: right;\">\n",
              "      <th></th>\n",
              "      <th>GENDER</th>\n",
              "      <th>AGE</th>\n",
              "      <th>SMOKING</th>\n",
              "      <th>YELLOW_FINGERS</th>\n",
              "      <th>ANXIETY</th>\n",
              "      <th>PEER_PRESSURE</th>\n",
              "      <th>CHRONIC DISEASE</th>\n",
              "      <th>FATIGUE</th>\n",
              "      <th>ALLERGY</th>\n",
              "      <th>WHEEZING</th>\n",
              "      <th>ALCOHOL CONSUMING</th>\n",
              "      <th>COUGHING</th>\n",
              "      <th>SHORTNESS OF BREATH</th>\n",
              "      <th>SWALLOWING DIFFICULTY</th>\n",
              "      <th>CHEST PAIN</th>\n",
              "      <th>LUNG_CANCER</th>\n",
              "    </tr>\n",
              "  </thead>\n",
              "  <tbody>\n",
              "    <tr>\n",
              "      <th>0</th>\n",
              "      <td>M</td>\n",
              "      <td>69</td>\n",
              "      <td>1</td>\n",
              "      <td>2</td>\n",
              "      <td>2</td>\n",
              "      <td>1</td>\n",
              "      <td>1</td>\n",
              "      <td>2</td>\n",
              "      <td>1</td>\n",
              "      <td>2</td>\n",
              "      <td>2</td>\n",
              "      <td>2</td>\n",
              "      <td>2</td>\n",
              "      <td>2</td>\n",
              "      <td>2</td>\n",
              "      <td>YES</td>\n",
              "    </tr>\n",
              "    <tr>\n",
              "      <th>1</th>\n",
              "      <td>M</td>\n",
              "      <td>74</td>\n",
              "      <td>2</td>\n",
              "      <td>1</td>\n",
              "      <td>1</td>\n",
              "      <td>1</td>\n",
              "      <td>2</td>\n",
              "      <td>2</td>\n",
              "      <td>2</td>\n",
              "      <td>1</td>\n",
              "      <td>1</td>\n",
              "      <td>1</td>\n",
              "      <td>2</td>\n",
              "      <td>2</td>\n",
              "      <td>2</td>\n",
              "      <td>YES</td>\n",
              "    </tr>\n",
              "    <tr>\n",
              "      <th>2</th>\n",
              "      <td>F</td>\n",
              "      <td>59</td>\n",
              "      <td>1</td>\n",
              "      <td>1</td>\n",
              "      <td>1</td>\n",
              "      <td>2</td>\n",
              "      <td>1</td>\n",
              "      <td>2</td>\n",
              "      <td>1</td>\n",
              "      <td>2</td>\n",
              "      <td>1</td>\n",
              "      <td>2</td>\n",
              "      <td>2</td>\n",
              "      <td>1</td>\n",
              "      <td>2</td>\n",
              "      <td>NO</td>\n",
              "    </tr>\n",
              "    <tr>\n",
              "      <th>3</th>\n",
              "      <td>M</td>\n",
              "      <td>63</td>\n",
              "      <td>2</td>\n",
              "      <td>2</td>\n",
              "      <td>2</td>\n",
              "      <td>1</td>\n",
              "      <td>1</td>\n",
              "      <td>1</td>\n",
              "      <td>1</td>\n",
              "      <td>1</td>\n",
              "      <td>2</td>\n",
              "      <td>1</td>\n",
              "      <td>1</td>\n",
              "      <td>2</td>\n",
              "      <td>2</td>\n",
              "      <td>NO</td>\n",
              "    </tr>\n",
              "    <tr>\n",
              "      <th>4</th>\n",
              "      <td>F</td>\n",
              "      <td>63</td>\n",
              "      <td>1</td>\n",
              "      <td>2</td>\n",
              "      <td>1</td>\n",
              "      <td>1</td>\n",
              "      <td>1</td>\n",
              "      <td>1</td>\n",
              "      <td>1</td>\n",
              "      <td>2</td>\n",
              "      <td>1</td>\n",
              "      <td>2</td>\n",
              "      <td>2</td>\n",
              "      <td>1</td>\n",
              "      <td>1</td>\n",
              "      <td>NO</td>\n",
              "    </tr>\n",
              "  </tbody>\n",
              "</table>\n",
              "</div>\n",
              "      <button class=\"colab-df-convert\" onclick=\"convertToInteractive('df-a3e4b8bb-98b6-440c-9b7d-0d31238e36ec')\"\n",
              "              title=\"Convert this dataframe to an interactive table.\"\n",
              "              style=\"display:none;\">\n",
              "        \n",
              "  <svg xmlns=\"http://www.w3.org/2000/svg\" height=\"24px\"viewBox=\"0 0 24 24\"\n",
              "       width=\"24px\">\n",
              "    <path d=\"M0 0h24v24H0V0z\" fill=\"none\"/>\n",
              "    <path d=\"M18.56 5.44l.94 2.06.94-2.06 2.06-.94-2.06-.94-.94-2.06-.94 2.06-2.06.94zm-11 1L8.5 8.5l.94-2.06 2.06-.94-2.06-.94L8.5 2.5l-.94 2.06-2.06.94zm10 10l.94 2.06.94-2.06 2.06-.94-2.06-.94-.94-2.06-.94 2.06-2.06.94z\"/><path d=\"M17.41 7.96l-1.37-1.37c-.4-.4-.92-.59-1.43-.59-.52 0-1.04.2-1.43.59L10.3 9.45l-7.72 7.72c-.78.78-.78 2.05 0 2.83L4 21.41c.39.39.9.59 1.41.59.51 0 1.02-.2 1.41-.59l7.78-7.78 2.81-2.81c.8-.78.8-2.07 0-2.86zM5.41 20L4 18.59l7.72-7.72 1.47 1.35L5.41 20z\"/>\n",
              "  </svg>\n",
              "      </button>\n",
              "      \n",
              "  <style>\n",
              "    .colab-df-container {\n",
              "      display:flex;\n",
              "      flex-wrap:wrap;\n",
              "      gap: 12px;\n",
              "    }\n",
              "\n",
              "    .colab-df-convert {\n",
              "      background-color: #E8F0FE;\n",
              "      border: none;\n",
              "      border-radius: 50%;\n",
              "      cursor: pointer;\n",
              "      display: none;\n",
              "      fill: #1967D2;\n",
              "      height: 32px;\n",
              "      padding: 0 0 0 0;\n",
              "      width: 32px;\n",
              "    }\n",
              "\n",
              "    .colab-df-convert:hover {\n",
              "      background-color: #E2EBFA;\n",
              "      box-shadow: 0px 1px 2px rgba(60, 64, 67, 0.3), 0px 1px 3px 1px rgba(60, 64, 67, 0.15);\n",
              "      fill: #174EA6;\n",
              "    }\n",
              "\n",
              "    [theme=dark] .colab-df-convert {\n",
              "      background-color: #3B4455;\n",
              "      fill: #D2E3FC;\n",
              "    }\n",
              "\n",
              "    [theme=dark] .colab-df-convert:hover {\n",
              "      background-color: #434B5C;\n",
              "      box-shadow: 0px 1px 3px 1px rgba(0, 0, 0, 0.15);\n",
              "      filter: drop-shadow(0px 1px 2px rgba(0, 0, 0, 0.3));\n",
              "      fill: #FFFFFF;\n",
              "    }\n",
              "  </style>\n",
              "\n",
              "      <script>\n",
              "        const buttonEl =\n",
              "          document.querySelector('#df-a3e4b8bb-98b6-440c-9b7d-0d31238e36ec button.colab-df-convert');\n",
              "        buttonEl.style.display =\n",
              "          google.colab.kernel.accessAllowed ? 'block' : 'none';\n",
              "\n",
              "        async function convertToInteractive(key) {\n",
              "          const element = document.querySelector('#df-a3e4b8bb-98b6-440c-9b7d-0d31238e36ec');\n",
              "          const dataTable =\n",
              "            await google.colab.kernel.invokeFunction('convertToInteractive',\n",
              "                                                     [key], {});\n",
              "          if (!dataTable) return;\n",
              "\n",
              "          const docLinkHtml = 'Like what you see? Visit the ' +\n",
              "            '<a target=\"_blank\" href=https://colab.research.google.com/notebooks/data_table.ipynb>data table notebook</a>'\n",
              "            + ' to learn more about interactive tables.';\n",
              "          element.innerHTML = '';\n",
              "          dataTable['output_type'] = 'display_data';\n",
              "          await google.colab.output.renderOutput(dataTable, element);\n",
              "          const docLink = document.createElement('div');\n",
              "          docLink.innerHTML = docLinkHtml;\n",
              "          element.appendChild(docLink);\n",
              "        }\n",
              "      </script>\n",
              "    </div>\n",
              "  </div>\n",
              "  "
            ],
            "text/plain": [
              "  GENDER  AGE  SMOKING  ...  SWALLOWING DIFFICULTY  CHEST PAIN  LUNG_CANCER\n",
              "0      M   69        1  ...                      2           2          YES\n",
              "1      M   74        2  ...                      2           2          YES\n",
              "2      F   59        1  ...                      1           2           NO\n",
              "3      M   63        2  ...                      2           2           NO\n",
              "4      F   63        1  ...                      1           1           NO\n",
              "\n",
              "[5 rows x 16 columns]"
            ]
          },
          "metadata": {},
          "execution_count": 51
        }
      ]
    },
    {
      "cell_type": "markdown",
      "source": [
        "# null값, 중복값 처리"
      ],
      "metadata": {
        "id": "8Nm-gt0G-7XA"
      }
    },
    {
      "cell_type": "code",
      "source": [
        "print(\"null 값 가진 cell의 개수: \" , df.isnull().sum().sum())"
      ],
      "metadata": {
        "_kg_hide-input": true,
        "execution": {
          "iopub.status.busy": "2021-10-04T20:26:50.171754Z",
          "iopub.execute_input": "2021-10-04T20:26:50.172417Z",
          "iopub.status.idle": "2021-10-04T20:26:50.179068Z",
          "shell.execute_reply.started": "2021-10-04T20:26:50.172380Z",
          "shell.execute_reply": "2021-10-04T20:26:50.178523Z"
        },
        "trusted": true,
        "colab": {
          "base_uri": "https://localhost:8080/"
        },
        "id": "50Mimj_6-7XA",
        "outputId": "8b5ab1ce-5988-47fc-c7f4-7524449274a5"
      },
      "execution_count": 52,
      "outputs": [
        {
          "output_type": "stream",
          "name": "stdout",
          "text": [
            "null 값 가진 cell의 개수:  0\n"
          ]
        }
      ]
    },
    {
      "cell_type": "code",
      "source": [
        "print(\"중복된 값 가진 cell의 개수: \" , df.duplicated().sum())"
      ],
      "metadata": {
        "_kg_hide-input": true,
        "execution": {
          "iopub.status.busy": "2021-10-04T20:26:50.179956Z",
          "iopub.execute_input": "2021-10-04T20:26:50.180645Z",
          "iopub.status.idle": "2021-10-04T20:26:50.195773Z",
          "shell.execute_reply.started": "2021-10-04T20:26:50.180605Z",
          "shell.execute_reply": "2021-10-04T20:26:50.194805Z"
        },
        "trusted": true,
        "colab": {
          "base_uri": "https://localhost:8080/"
        },
        "id": "eo-pOtIC-7XB",
        "outputId": "6290df91-bf99-4480-aae9-956395c47899"
      },
      "execution_count": 53,
      "outputs": [
        {
          "output_type": "stream",
          "name": "stdout",
          "text": [
            "중복된 값 가진 cell의 개수:  33\n"
          ]
        }
      ]
    },
    {
      "cell_type": "markdown",
      "source": [
        "중복값 제거"
      ],
      "metadata": {
        "id": "GBI7bwKH-7XB"
      }
    },
    {
      "cell_type": "code",
      "source": [
        "df = df.drop_duplicates()\n",
        "df"
      ],
      "metadata": {
        "_kg_hide-input": true,
        "execution": {
          "iopub.status.busy": "2021-10-04T20:26:50.197810Z",
          "iopub.execute_input": "2021-10-04T20:26:50.198071Z",
          "iopub.status.idle": "2021-10-04T20:26:50.209848Z",
          "shell.execute_reply.started": "2021-10-04T20:26:50.198036Z",
          "shell.execute_reply": "2021-10-04T20:26:50.208912Z"
        },
        "trusted": true,
        "id": "R03V6LMn-7XC",
        "colab": {
          "base_uri": "https://localhost:8080/",
          "height": 505
        },
        "outputId": "c92e0726-1682-4ffc-cabe-ae51ed765ccc"
      },
      "execution_count": 54,
      "outputs": [
        {
          "output_type": "execute_result",
          "data": {
            "text/html": [
              "\n",
              "  <div id=\"df-1cbadb8e-d536-4c59-b652-d4366eabb35c\">\n",
              "    <div class=\"colab-df-container\">\n",
              "      <div>\n",
              "<style scoped>\n",
              "    .dataframe tbody tr th:only-of-type {\n",
              "        vertical-align: middle;\n",
              "    }\n",
              "\n",
              "    .dataframe tbody tr th {\n",
              "        vertical-align: top;\n",
              "    }\n",
              "\n",
              "    .dataframe thead th {\n",
              "        text-align: right;\n",
              "    }\n",
              "</style>\n",
              "<table border=\"1\" class=\"dataframe\">\n",
              "  <thead>\n",
              "    <tr style=\"text-align: right;\">\n",
              "      <th></th>\n",
              "      <th>GENDER</th>\n",
              "      <th>AGE</th>\n",
              "      <th>SMOKING</th>\n",
              "      <th>YELLOW_FINGERS</th>\n",
              "      <th>ANXIETY</th>\n",
              "      <th>PEER_PRESSURE</th>\n",
              "      <th>CHRONIC DISEASE</th>\n",
              "      <th>FATIGUE</th>\n",
              "      <th>ALLERGY</th>\n",
              "      <th>WHEEZING</th>\n",
              "      <th>ALCOHOL CONSUMING</th>\n",
              "      <th>COUGHING</th>\n",
              "      <th>SHORTNESS OF BREATH</th>\n",
              "      <th>SWALLOWING DIFFICULTY</th>\n",
              "      <th>CHEST PAIN</th>\n",
              "      <th>LUNG_CANCER</th>\n",
              "    </tr>\n",
              "  </thead>\n",
              "  <tbody>\n",
              "    <tr>\n",
              "      <th>0</th>\n",
              "      <td>M</td>\n",
              "      <td>69</td>\n",
              "      <td>1</td>\n",
              "      <td>2</td>\n",
              "      <td>2</td>\n",
              "      <td>1</td>\n",
              "      <td>1</td>\n",
              "      <td>2</td>\n",
              "      <td>1</td>\n",
              "      <td>2</td>\n",
              "      <td>2</td>\n",
              "      <td>2</td>\n",
              "      <td>2</td>\n",
              "      <td>2</td>\n",
              "      <td>2</td>\n",
              "      <td>YES</td>\n",
              "    </tr>\n",
              "    <tr>\n",
              "      <th>1</th>\n",
              "      <td>M</td>\n",
              "      <td>74</td>\n",
              "      <td>2</td>\n",
              "      <td>1</td>\n",
              "      <td>1</td>\n",
              "      <td>1</td>\n",
              "      <td>2</td>\n",
              "      <td>2</td>\n",
              "      <td>2</td>\n",
              "      <td>1</td>\n",
              "      <td>1</td>\n",
              "      <td>1</td>\n",
              "      <td>2</td>\n",
              "      <td>2</td>\n",
              "      <td>2</td>\n",
              "      <td>YES</td>\n",
              "    </tr>\n",
              "    <tr>\n",
              "      <th>2</th>\n",
              "      <td>F</td>\n",
              "      <td>59</td>\n",
              "      <td>1</td>\n",
              "      <td>1</td>\n",
              "      <td>1</td>\n",
              "      <td>2</td>\n",
              "      <td>1</td>\n",
              "      <td>2</td>\n",
              "      <td>1</td>\n",
              "      <td>2</td>\n",
              "      <td>1</td>\n",
              "      <td>2</td>\n",
              "      <td>2</td>\n",
              "      <td>1</td>\n",
              "      <td>2</td>\n",
              "      <td>NO</td>\n",
              "    </tr>\n",
              "    <tr>\n",
              "      <th>3</th>\n",
              "      <td>M</td>\n",
              "      <td>63</td>\n",
              "      <td>2</td>\n",
              "      <td>2</td>\n",
              "      <td>2</td>\n",
              "      <td>1</td>\n",
              "      <td>1</td>\n",
              "      <td>1</td>\n",
              "      <td>1</td>\n",
              "      <td>1</td>\n",
              "      <td>2</td>\n",
              "      <td>1</td>\n",
              "      <td>1</td>\n",
              "      <td>2</td>\n",
              "      <td>2</td>\n",
              "      <td>NO</td>\n",
              "    </tr>\n",
              "    <tr>\n",
              "      <th>4</th>\n",
              "      <td>F</td>\n",
              "      <td>63</td>\n",
              "      <td>1</td>\n",
              "      <td>2</td>\n",
              "      <td>1</td>\n",
              "      <td>1</td>\n",
              "      <td>1</td>\n",
              "      <td>1</td>\n",
              "      <td>1</td>\n",
              "      <td>2</td>\n",
              "      <td>1</td>\n",
              "      <td>2</td>\n",
              "      <td>2</td>\n",
              "      <td>1</td>\n",
              "      <td>1</td>\n",
              "      <td>NO</td>\n",
              "    </tr>\n",
              "    <tr>\n",
              "      <th>...</th>\n",
              "      <td>...</td>\n",
              "      <td>...</td>\n",
              "      <td>...</td>\n",
              "      <td>...</td>\n",
              "      <td>...</td>\n",
              "      <td>...</td>\n",
              "      <td>...</td>\n",
              "      <td>...</td>\n",
              "      <td>...</td>\n",
              "      <td>...</td>\n",
              "      <td>...</td>\n",
              "      <td>...</td>\n",
              "      <td>...</td>\n",
              "      <td>...</td>\n",
              "      <td>...</td>\n",
              "      <td>...</td>\n",
              "    </tr>\n",
              "    <tr>\n",
              "      <th>279</th>\n",
              "      <td>F</td>\n",
              "      <td>59</td>\n",
              "      <td>1</td>\n",
              "      <td>2</td>\n",
              "      <td>2</td>\n",
              "      <td>2</td>\n",
              "      <td>1</td>\n",
              "      <td>1</td>\n",
              "      <td>2</td>\n",
              "      <td>2</td>\n",
              "      <td>1</td>\n",
              "      <td>2</td>\n",
              "      <td>1</td>\n",
              "      <td>2</td>\n",
              "      <td>1</td>\n",
              "      <td>YES</td>\n",
              "    </tr>\n",
              "    <tr>\n",
              "      <th>280</th>\n",
              "      <td>F</td>\n",
              "      <td>59</td>\n",
              "      <td>2</td>\n",
              "      <td>1</td>\n",
              "      <td>1</td>\n",
              "      <td>1</td>\n",
              "      <td>2</td>\n",
              "      <td>2</td>\n",
              "      <td>2</td>\n",
              "      <td>1</td>\n",
              "      <td>1</td>\n",
              "      <td>1</td>\n",
              "      <td>2</td>\n",
              "      <td>1</td>\n",
              "      <td>1</td>\n",
              "      <td>NO</td>\n",
              "    </tr>\n",
              "    <tr>\n",
              "      <th>281</th>\n",
              "      <td>M</td>\n",
              "      <td>55</td>\n",
              "      <td>2</td>\n",
              "      <td>1</td>\n",
              "      <td>1</td>\n",
              "      <td>1</td>\n",
              "      <td>1</td>\n",
              "      <td>2</td>\n",
              "      <td>2</td>\n",
              "      <td>1</td>\n",
              "      <td>1</td>\n",
              "      <td>1</td>\n",
              "      <td>2</td>\n",
              "      <td>1</td>\n",
              "      <td>2</td>\n",
              "      <td>NO</td>\n",
              "    </tr>\n",
              "    <tr>\n",
              "      <th>282</th>\n",
              "      <td>M</td>\n",
              "      <td>46</td>\n",
              "      <td>1</td>\n",
              "      <td>2</td>\n",
              "      <td>2</td>\n",
              "      <td>1</td>\n",
              "      <td>1</td>\n",
              "      <td>1</td>\n",
              "      <td>1</td>\n",
              "      <td>1</td>\n",
              "      <td>1</td>\n",
              "      <td>1</td>\n",
              "      <td>1</td>\n",
              "      <td>2</td>\n",
              "      <td>2</td>\n",
              "      <td>NO</td>\n",
              "    </tr>\n",
              "    <tr>\n",
              "      <th>283</th>\n",
              "      <td>M</td>\n",
              "      <td>60</td>\n",
              "      <td>1</td>\n",
              "      <td>2</td>\n",
              "      <td>2</td>\n",
              "      <td>1</td>\n",
              "      <td>1</td>\n",
              "      <td>2</td>\n",
              "      <td>1</td>\n",
              "      <td>2</td>\n",
              "      <td>2</td>\n",
              "      <td>2</td>\n",
              "      <td>2</td>\n",
              "      <td>2</td>\n",
              "      <td>2</td>\n",
              "      <td>YES</td>\n",
              "    </tr>\n",
              "  </tbody>\n",
              "</table>\n",
              "<p>276 rows × 16 columns</p>\n",
              "</div>\n",
              "      <button class=\"colab-df-convert\" onclick=\"convertToInteractive('df-1cbadb8e-d536-4c59-b652-d4366eabb35c')\"\n",
              "              title=\"Convert this dataframe to an interactive table.\"\n",
              "              style=\"display:none;\">\n",
              "        \n",
              "  <svg xmlns=\"http://www.w3.org/2000/svg\" height=\"24px\"viewBox=\"0 0 24 24\"\n",
              "       width=\"24px\">\n",
              "    <path d=\"M0 0h24v24H0V0z\" fill=\"none\"/>\n",
              "    <path d=\"M18.56 5.44l.94 2.06.94-2.06 2.06-.94-2.06-.94-.94-2.06-.94 2.06-2.06.94zm-11 1L8.5 8.5l.94-2.06 2.06-.94-2.06-.94L8.5 2.5l-.94 2.06-2.06.94zm10 10l.94 2.06.94-2.06 2.06-.94-2.06-.94-.94-2.06-.94 2.06-2.06.94z\"/><path d=\"M17.41 7.96l-1.37-1.37c-.4-.4-.92-.59-1.43-.59-.52 0-1.04.2-1.43.59L10.3 9.45l-7.72 7.72c-.78.78-.78 2.05 0 2.83L4 21.41c.39.39.9.59 1.41.59.51 0 1.02-.2 1.41-.59l7.78-7.78 2.81-2.81c.8-.78.8-2.07 0-2.86zM5.41 20L4 18.59l7.72-7.72 1.47 1.35L5.41 20z\"/>\n",
              "  </svg>\n",
              "      </button>\n",
              "      \n",
              "  <style>\n",
              "    .colab-df-container {\n",
              "      display:flex;\n",
              "      flex-wrap:wrap;\n",
              "      gap: 12px;\n",
              "    }\n",
              "\n",
              "    .colab-df-convert {\n",
              "      background-color: #E8F0FE;\n",
              "      border: none;\n",
              "      border-radius: 50%;\n",
              "      cursor: pointer;\n",
              "      display: none;\n",
              "      fill: #1967D2;\n",
              "      height: 32px;\n",
              "      padding: 0 0 0 0;\n",
              "      width: 32px;\n",
              "    }\n",
              "\n",
              "    .colab-df-convert:hover {\n",
              "      background-color: #E2EBFA;\n",
              "      box-shadow: 0px 1px 2px rgba(60, 64, 67, 0.3), 0px 1px 3px 1px rgba(60, 64, 67, 0.15);\n",
              "      fill: #174EA6;\n",
              "    }\n",
              "\n",
              "    [theme=dark] .colab-df-convert {\n",
              "      background-color: #3B4455;\n",
              "      fill: #D2E3FC;\n",
              "    }\n",
              "\n",
              "    [theme=dark] .colab-df-convert:hover {\n",
              "      background-color: #434B5C;\n",
              "      box-shadow: 0px 1px 3px 1px rgba(0, 0, 0, 0.15);\n",
              "      filter: drop-shadow(0px 1px 2px rgba(0, 0, 0, 0.3));\n",
              "      fill: #FFFFFF;\n",
              "    }\n",
              "  </style>\n",
              "\n",
              "      <script>\n",
              "        const buttonEl =\n",
              "          document.querySelector('#df-1cbadb8e-d536-4c59-b652-d4366eabb35c button.colab-df-convert');\n",
              "        buttonEl.style.display =\n",
              "          google.colab.kernel.accessAllowed ? 'block' : 'none';\n",
              "\n",
              "        async function convertToInteractive(key) {\n",
              "          const element = document.querySelector('#df-1cbadb8e-d536-4c59-b652-d4366eabb35c');\n",
              "          const dataTable =\n",
              "            await google.colab.kernel.invokeFunction('convertToInteractive',\n",
              "                                                     [key], {});\n",
              "          if (!dataTable) return;\n",
              "\n",
              "          const docLinkHtml = 'Like what you see? Visit the ' +\n",
              "            '<a target=\"_blank\" href=https://colab.research.google.com/notebooks/data_table.ipynb>data table notebook</a>'\n",
              "            + ' to learn more about interactive tables.';\n",
              "          element.innerHTML = '';\n",
              "          dataTable['output_type'] = 'display_data';\n",
              "          await google.colab.output.renderOutput(dataTable, element);\n",
              "          const docLink = document.createElement('div');\n",
              "          docLink.innerHTML = docLinkHtml;\n",
              "          element.appendChild(docLink);\n",
              "        }\n",
              "      </script>\n",
              "    </div>\n",
              "  </div>\n",
              "  "
            ],
            "text/plain": [
              "    GENDER  AGE  SMOKING  ...  SWALLOWING DIFFICULTY  CHEST PAIN  LUNG_CANCER\n",
              "0        M   69        1  ...                      2           2          YES\n",
              "1        M   74        2  ...                      2           2          YES\n",
              "2        F   59        1  ...                      1           2           NO\n",
              "3        M   63        2  ...                      2           2           NO\n",
              "4        F   63        1  ...                      1           1           NO\n",
              "..     ...  ...      ...  ...                    ...         ...          ...\n",
              "279      F   59        1  ...                      2           1          YES\n",
              "280      F   59        2  ...                      1           1           NO\n",
              "281      M   55        2  ...                      1           2           NO\n",
              "282      M   46        1  ...                      2           2           NO\n",
              "283      M   60        1  ...                      2           2          YES\n",
              "\n",
              "[276 rows x 16 columns]"
            ]
          },
          "metadata": {},
          "execution_count": 54
        }
      ]
    },
    {
      "cell_type": "markdown",
      "source": [
        "# 분석"
      ],
      "metadata": {
        "id": "aAtisnOP-7XD"
      }
    },
    {
      "cell_type": "markdown",
      "source": [
        "### 통계적 분석"
      ],
      "metadata": {
        "id": "xWkypfV5-7XE"
      }
    },
    {
      "cell_type": "code",
      "source": [
        "df.describe()  # 통계"
      ],
      "metadata": {
        "_kg_hide-input": true,
        "execution": {
          "iopub.status.busy": "2021-10-04T20:26:50.211207Z",
          "iopub.execute_input": "2021-10-04T20:26:50.211437Z",
          "iopub.status.idle": "2021-10-04T20:26:50.263258Z",
          "shell.execute_reply.started": "2021-10-04T20:26:50.211398Z",
          "shell.execute_reply": "2021-10-04T20:26:50.262306Z"
        },
        "trusted": true,
        "colab": {
          "base_uri": "https://localhost:8080/",
          "height": 382
        },
        "id": "N8trkond-7XE",
        "outputId": "77fb688f-eaaa-42db-e437-c3d9f2aa0ca4"
      },
      "execution_count": 55,
      "outputs": [
        {
          "output_type": "execute_result",
          "data": {
            "text/html": [
              "\n",
              "  <div id=\"df-69ae62c4-33d3-4e40-a038-c67989c9edfd\">\n",
              "    <div class=\"colab-df-container\">\n",
              "      <div>\n",
              "<style scoped>\n",
              "    .dataframe tbody tr th:only-of-type {\n",
              "        vertical-align: middle;\n",
              "    }\n",
              "\n",
              "    .dataframe tbody tr th {\n",
              "        vertical-align: top;\n",
              "    }\n",
              "\n",
              "    .dataframe thead th {\n",
              "        text-align: right;\n",
              "    }\n",
              "</style>\n",
              "<table border=\"1\" class=\"dataframe\">\n",
              "  <thead>\n",
              "    <tr style=\"text-align: right;\">\n",
              "      <th></th>\n",
              "      <th>AGE</th>\n",
              "      <th>SMOKING</th>\n",
              "      <th>YELLOW_FINGERS</th>\n",
              "      <th>ANXIETY</th>\n",
              "      <th>PEER_PRESSURE</th>\n",
              "      <th>CHRONIC DISEASE</th>\n",
              "      <th>FATIGUE</th>\n",
              "      <th>ALLERGY</th>\n",
              "      <th>WHEEZING</th>\n",
              "      <th>ALCOHOL CONSUMING</th>\n",
              "      <th>COUGHING</th>\n",
              "      <th>SHORTNESS OF BREATH</th>\n",
              "      <th>SWALLOWING DIFFICULTY</th>\n",
              "      <th>CHEST PAIN</th>\n",
              "    </tr>\n",
              "  </thead>\n",
              "  <tbody>\n",
              "    <tr>\n",
              "      <th>count</th>\n",
              "      <td>276.000000</td>\n",
              "      <td>276.000000</td>\n",
              "      <td>276.000000</td>\n",
              "      <td>276.000000</td>\n",
              "      <td>276.000000</td>\n",
              "      <td>276.000000</td>\n",
              "      <td>276.000000</td>\n",
              "      <td>276.000000</td>\n",
              "      <td>276.000000</td>\n",
              "      <td>276.000000</td>\n",
              "      <td>276.000000</td>\n",
              "      <td>276.000000</td>\n",
              "      <td>276.000000</td>\n",
              "      <td>276.000000</td>\n",
              "    </tr>\n",
              "    <tr>\n",
              "      <th>mean</th>\n",
              "      <td>62.909420</td>\n",
              "      <td>1.543478</td>\n",
              "      <td>1.576087</td>\n",
              "      <td>1.496377</td>\n",
              "      <td>1.507246</td>\n",
              "      <td>1.521739</td>\n",
              "      <td>1.663043</td>\n",
              "      <td>1.547101</td>\n",
              "      <td>1.547101</td>\n",
              "      <td>1.550725</td>\n",
              "      <td>1.576087</td>\n",
              "      <td>1.630435</td>\n",
              "      <td>1.467391</td>\n",
              "      <td>1.557971</td>\n",
              "    </tr>\n",
              "    <tr>\n",
              "      <th>std</th>\n",
              "      <td>8.379355</td>\n",
              "      <td>0.499011</td>\n",
              "      <td>0.495075</td>\n",
              "      <td>0.500895</td>\n",
              "      <td>0.500856</td>\n",
              "      <td>0.500435</td>\n",
              "      <td>0.473529</td>\n",
              "      <td>0.498681</td>\n",
              "      <td>0.498681</td>\n",
              "      <td>0.498324</td>\n",
              "      <td>0.495075</td>\n",
              "      <td>0.483564</td>\n",
              "      <td>0.499842</td>\n",
              "      <td>0.497530</td>\n",
              "    </tr>\n",
              "    <tr>\n",
              "      <th>min</th>\n",
              "      <td>21.000000</td>\n",
              "      <td>1.000000</td>\n",
              "      <td>1.000000</td>\n",
              "      <td>1.000000</td>\n",
              "      <td>1.000000</td>\n",
              "      <td>1.000000</td>\n",
              "      <td>1.000000</td>\n",
              "      <td>1.000000</td>\n",
              "      <td>1.000000</td>\n",
              "      <td>1.000000</td>\n",
              "      <td>1.000000</td>\n",
              "      <td>1.000000</td>\n",
              "      <td>1.000000</td>\n",
              "      <td>1.000000</td>\n",
              "    </tr>\n",
              "    <tr>\n",
              "      <th>25%</th>\n",
              "      <td>57.750000</td>\n",
              "      <td>1.000000</td>\n",
              "      <td>1.000000</td>\n",
              "      <td>1.000000</td>\n",
              "      <td>1.000000</td>\n",
              "      <td>1.000000</td>\n",
              "      <td>1.000000</td>\n",
              "      <td>1.000000</td>\n",
              "      <td>1.000000</td>\n",
              "      <td>1.000000</td>\n",
              "      <td>1.000000</td>\n",
              "      <td>1.000000</td>\n",
              "      <td>1.000000</td>\n",
              "      <td>1.000000</td>\n",
              "    </tr>\n",
              "    <tr>\n",
              "      <th>50%</th>\n",
              "      <td>62.500000</td>\n",
              "      <td>2.000000</td>\n",
              "      <td>2.000000</td>\n",
              "      <td>1.000000</td>\n",
              "      <td>2.000000</td>\n",
              "      <td>2.000000</td>\n",
              "      <td>2.000000</td>\n",
              "      <td>2.000000</td>\n",
              "      <td>2.000000</td>\n",
              "      <td>2.000000</td>\n",
              "      <td>2.000000</td>\n",
              "      <td>2.000000</td>\n",
              "      <td>1.000000</td>\n",
              "      <td>2.000000</td>\n",
              "    </tr>\n",
              "    <tr>\n",
              "      <th>75%</th>\n",
              "      <td>69.000000</td>\n",
              "      <td>2.000000</td>\n",
              "      <td>2.000000</td>\n",
              "      <td>2.000000</td>\n",
              "      <td>2.000000</td>\n",
              "      <td>2.000000</td>\n",
              "      <td>2.000000</td>\n",
              "      <td>2.000000</td>\n",
              "      <td>2.000000</td>\n",
              "      <td>2.000000</td>\n",
              "      <td>2.000000</td>\n",
              "      <td>2.000000</td>\n",
              "      <td>2.000000</td>\n",
              "      <td>2.000000</td>\n",
              "    </tr>\n",
              "    <tr>\n",
              "      <th>max</th>\n",
              "      <td>87.000000</td>\n",
              "      <td>2.000000</td>\n",
              "      <td>2.000000</td>\n",
              "      <td>2.000000</td>\n",
              "      <td>2.000000</td>\n",
              "      <td>2.000000</td>\n",
              "      <td>2.000000</td>\n",
              "      <td>2.000000</td>\n",
              "      <td>2.000000</td>\n",
              "      <td>2.000000</td>\n",
              "      <td>2.000000</td>\n",
              "      <td>2.000000</td>\n",
              "      <td>2.000000</td>\n",
              "      <td>2.000000</td>\n",
              "    </tr>\n",
              "  </tbody>\n",
              "</table>\n",
              "</div>\n",
              "      <button class=\"colab-df-convert\" onclick=\"convertToInteractive('df-69ae62c4-33d3-4e40-a038-c67989c9edfd')\"\n",
              "              title=\"Convert this dataframe to an interactive table.\"\n",
              "              style=\"display:none;\">\n",
              "        \n",
              "  <svg xmlns=\"http://www.w3.org/2000/svg\" height=\"24px\"viewBox=\"0 0 24 24\"\n",
              "       width=\"24px\">\n",
              "    <path d=\"M0 0h24v24H0V0z\" fill=\"none\"/>\n",
              "    <path d=\"M18.56 5.44l.94 2.06.94-2.06 2.06-.94-2.06-.94-.94-2.06-.94 2.06-2.06.94zm-11 1L8.5 8.5l.94-2.06 2.06-.94-2.06-.94L8.5 2.5l-.94 2.06-2.06.94zm10 10l.94 2.06.94-2.06 2.06-.94-2.06-.94-.94-2.06-.94 2.06-2.06.94z\"/><path d=\"M17.41 7.96l-1.37-1.37c-.4-.4-.92-.59-1.43-.59-.52 0-1.04.2-1.43.59L10.3 9.45l-7.72 7.72c-.78.78-.78 2.05 0 2.83L4 21.41c.39.39.9.59 1.41.59.51 0 1.02-.2 1.41-.59l7.78-7.78 2.81-2.81c.8-.78.8-2.07 0-2.86zM5.41 20L4 18.59l7.72-7.72 1.47 1.35L5.41 20z\"/>\n",
              "  </svg>\n",
              "      </button>\n",
              "      \n",
              "  <style>\n",
              "    .colab-df-container {\n",
              "      display:flex;\n",
              "      flex-wrap:wrap;\n",
              "      gap: 12px;\n",
              "    }\n",
              "\n",
              "    .colab-df-convert {\n",
              "      background-color: #E8F0FE;\n",
              "      border: none;\n",
              "      border-radius: 50%;\n",
              "      cursor: pointer;\n",
              "      display: none;\n",
              "      fill: #1967D2;\n",
              "      height: 32px;\n",
              "      padding: 0 0 0 0;\n",
              "      width: 32px;\n",
              "    }\n",
              "\n",
              "    .colab-df-convert:hover {\n",
              "      background-color: #E2EBFA;\n",
              "      box-shadow: 0px 1px 2px rgba(60, 64, 67, 0.3), 0px 1px 3px 1px rgba(60, 64, 67, 0.15);\n",
              "      fill: #174EA6;\n",
              "    }\n",
              "\n",
              "    [theme=dark] .colab-df-convert {\n",
              "      background-color: #3B4455;\n",
              "      fill: #D2E3FC;\n",
              "    }\n",
              "\n",
              "    [theme=dark] .colab-df-convert:hover {\n",
              "      background-color: #434B5C;\n",
              "      box-shadow: 0px 1px 3px 1px rgba(0, 0, 0, 0.15);\n",
              "      filter: drop-shadow(0px 1px 2px rgba(0, 0, 0, 0.3));\n",
              "      fill: #FFFFFF;\n",
              "    }\n",
              "  </style>\n",
              "\n",
              "      <script>\n",
              "        const buttonEl =\n",
              "          document.querySelector('#df-69ae62c4-33d3-4e40-a038-c67989c9edfd button.colab-df-convert');\n",
              "        buttonEl.style.display =\n",
              "          google.colab.kernel.accessAllowed ? 'block' : 'none';\n",
              "\n",
              "        async function convertToInteractive(key) {\n",
              "          const element = document.querySelector('#df-69ae62c4-33d3-4e40-a038-c67989c9edfd');\n",
              "          const dataTable =\n",
              "            await google.colab.kernel.invokeFunction('convertToInteractive',\n",
              "                                                     [key], {});\n",
              "          if (!dataTable) return;\n",
              "\n",
              "          const docLinkHtml = 'Like what you see? Visit the ' +\n",
              "            '<a target=\"_blank\" href=https://colab.research.google.com/notebooks/data_table.ipynb>data table notebook</a>'\n",
              "            + ' to learn more about interactive tables.';\n",
              "          element.innerHTML = '';\n",
              "          dataTable['output_type'] = 'display_data';\n",
              "          await google.colab.output.renderOutput(dataTable, element);\n",
              "          const docLink = document.createElement('div');\n",
              "          docLink.innerHTML = docLinkHtml;\n",
              "          element.appendChild(docLink);\n",
              "        }\n",
              "      </script>\n",
              "    </div>\n",
              "  </div>\n",
              "  "
            ],
            "text/plain": [
              "              AGE     SMOKING  ...  SWALLOWING DIFFICULTY  CHEST PAIN\n",
              "count  276.000000  276.000000  ...             276.000000  276.000000\n",
              "mean    62.909420    1.543478  ...               1.467391    1.557971\n",
              "std      8.379355    0.499011  ...               0.499842    0.497530\n",
              "min     21.000000    1.000000  ...               1.000000    1.000000\n",
              "25%     57.750000    1.000000  ...               1.000000    1.000000\n",
              "50%     62.500000    2.000000  ...               1.000000    2.000000\n",
              "75%     69.000000    2.000000  ...               2.000000    2.000000\n",
              "max     87.000000    2.000000  ...               2.000000    2.000000\n",
              "\n",
              "[8 rows x 14 columns]"
            ]
          },
          "metadata": {},
          "execution_count": 55
        }
      ]
    },
    {
      "cell_type": "markdown",
      "source": [
        "### 분포"
      ],
      "metadata": {
        "id": "fu8Z0-s_-7XF"
      }
    },
    {
      "cell_type": "code",
      "source": [
        "fig, axes = plt.subplots(4, 4, figsize=(25, 15))  # plot 배열: 4*4, 각 fig size 정의\n",
        "fig.suptitle('Distribution by feature')\n",
        "\n",
        "axes = axes.reshape(16,)  # 4*4 배열 -> 16\n",
        "\n",
        "for i,column in enumerate(df.columns):\n",
        "    sns.histplot(ax = axes[i], data = df, x= column, color='hotpink')\n"
      ],
      "metadata": {
        "_kg_hide-input": true,
        "execution": {
          "iopub.status.busy": "2021-10-04T20:26:50.264525Z",
          "iopub.execute_input": "2021-10-04T20:26:50.264763Z",
          "iopub.status.idle": "2021-10-04T20:26:54.128978Z",
          "shell.execute_reply.started": "2021-10-04T20:26:50.264734Z",
          "shell.execute_reply": "2021-10-04T20:26:54.127981Z"
        },
        "trusted": true,
        "colab": {
          "base_uri": "https://localhost:8080/",
          "height": 818
        },
        "id": "hpcP-_a1-7XF",
        "outputId": "3f48528f-6efa-4376-a79b-9a9678df9bb7"
      },
      "execution_count": 57,
      "outputs": [
        {
          "output_type": "display_data",
          "data": {
            "image/png": "[encoded data removed]",
            "text/plain": [
              "<Figure size 1800x1080 with 16 Axes>"
            ]
          },
          "metadata": {}
        }
      ]
    },
    {
      "cell_type": "code",
      "source": [
        "sns.histplot(data = df, x= \"AGE\", kde=True, color='hotpink')"
      ],
      "metadata": {
        "_kg_hide-input": true,
        "execution": {
          "iopub.status.busy": "2021-10-04T20:26:54.130752Z",
          "iopub.execute_input": "2021-10-04T20:26:54.131089Z",
          "iopub.status.idle": "2021-10-04T20:26:54.483293Z",
          "shell.execute_reply.started": "2021-10-04T20:26:54.131048Z",
          "shell.execute_reply": "2021-10-04T20:26:54.482577Z"
        },
        "trusted": true,
        "colab": {
          "base_uri": "https://localhost:8080/",
          "height": 302
        },
        "id": "dpQeEb06-7XG",
        "outputId": "131c7279-7517-40a9-dc10-1475cf1e7874"
      },
      "execution_count": 24,
      "outputs": [
        {
          "output_type": "execute_result",
          "data": {
            "text/plain": [
              "<matplotlib.axes._subplots.AxesSubplot at 0x7f3296087350>"
            ]
          },
          "metadata": {},
          "execution_count": 24
        },
        {
          "output_type": "display_data",
          "data": {
            "image/png": "[encoded data removed]",
            "text/plain": [
              "<Figure size 432x288 with 1 Axes>"
            ]
          },
          "metadata": {
            "needs_background": "light"
          }
        }
      ]
    },
    {
      "cell_type": "markdown",
      "source": [
        "<p style=\"font-size: 120%\"> LUNG_CANCER의 분포도 보면 불균형한 것을 알 수 있음 -> 비율 맞추기 </p>"
      ],
      "metadata": {
        "id": "A7Jj4Gup-7XG"
      }
    },
    {
      "cell_type": "code",
      "source": [
        "freqs = df['LUNG_CANCER'].value_counts()\n",
        "print(\"NO/YES 비율: \", freqs[1]/freqs[0])"
      ],
      "metadata": {
        "_kg_hide-input": true,
        "execution": {
          "iopub.status.busy": "2021-10-04T20:26:54.484520Z",
          "iopub.execute_input": "2021-10-04T20:26:54.485429Z",
          "iopub.status.idle": "2021-10-04T20:26:54.492574Z",
          "shell.execute_reply.started": "2021-10-04T20:26:54.485381Z",
          "shell.execute_reply": "2021-10-04T20:26:54.491635Z"
        },
        "trusted": true,
        "colab": {
          "base_uri": "https://localhost:8080/"
        },
        "id": "sqFYxcMS-7XH",
        "outputId": "ca6539a7-8abd-4b03-a88e-104cbd087205"
      },
      "execution_count": 22,
      "outputs": [
        {
          "output_type": "stream",
          "name": "stdout",
          "text": [
            "NO/YES 비율:  0.15966386554621848\n"
          ]
        }
      ]
    },
    {
      "cell_type": "markdown",
      "source": [
        "<p style=\"font-size: 120%\"> 결과가 1이 아니기 때문에 훈련 과정에서 보수 </p>"
      ],
      "metadata": {
        "id": "Jp5bAai4-7XH"
      }
    },
    {
      "cell_type": "markdown",
      "source": [
        "### 상관행렬과 추가적 도표"
      ],
      "metadata": {
        "id": "KryPoV9_-7XI"
      }
    },
    {
      "cell_type": "code",
      "source": [
        "# 상관행렬과 추가적인 도표\n",
        "encoder = LabelEncoder()\n",
        "\n",
        "df['GENDER'] = encoder.fit_transform(df['GENDER'])\n",
        "df['LUNG_CANCER'] = encoder.fit_transform(df['LUNG_CANCER'])"
      ],
      "metadata": {
        "_kg_hide-input": true,
        "execution": {
          "iopub.status.busy": "2021-10-04T20:26:54.495244Z",
          "iopub.execute_input": "2021-10-04T20:26:54.495563Z",
          "iopub.status.idle": "2021-10-04T20:26:54.504008Z",
          "shell.execute_reply.started": "2021-10-04T20:26:54.495532Z",
          "shell.execute_reply": "2021-10-04T20:26:54.503188Z"
        },
        "trusted": true,
        "id": "AStJMQe1-7XI"
      },
      "execution_count": 25,
      "outputs": []
    },
    {
      "cell_type": "markdown",
      "source": [
        "<p style=\"font-size: 120%\"> 매핑 값: <br><br>\n",
        "    GENDER <br>\n",
        "    1 - M (Male) <br>\n",
        "    0 - F (Female)<br><br>LUNG_CANCER <br>\n",
        "    1 - YES <br>\n",
        "    0 - NO  <br></p>"
      ],
      "metadata": {
        "id": "I5pO96gI-7XI"
      }
    },
    {
      "cell_type": "markdown",
      "source": [
        "## **heatmap?**  \n",
        "데이터들의 배열을 색상으로 표현해주는 그래프\n",
        "\n",
        "### **why using heatmap?**\n",
        "- 두 개의 카테고리에 대한 값 변화 한눈에 알기 쉬움"
      ],
      "metadata": {
        "id": "HEbe-m-fUmTr"
      }
    },
    {
      "cell_type": "code",
      "source": [
        "sns.heatmap(df.corr(), cmap=\"PiYG\")"
      ],
      "metadata": {
        "_kg_hide-input": true,
        "execution": {
          "iopub.status.busy": "2021-10-04T20:26:54.505868Z",
          "iopub.execute_input": "2021-10-04T20:26:54.506272Z",
          "iopub.status.idle": "2021-10-04T20:26:55.069967Z",
          "shell.execute_reply.started": "2021-10-04T20:26:54.506228Z",
          "shell.execute_reply": "2021-10-04T20:26:55.069355Z"
        },
        "trusted": true,
        "colab": {
          "base_uri": "https://localhost:8080/",
          "height": 420
        },
        "id": "NmAxVbot-7XJ",
        "outputId": "3347e24d-755a-4e0c-bdbb-99cfea2baef0"
      },
      "execution_count": 26,
      "outputs": [
        {
          "output_type": "execute_result",
          "data": {
            "text/plain": [
              "<matplotlib.axes._subplots.AxesSubplot at 0x7f32928717d0>"
            ]
          },
          "metadata": {},
          "execution_count": 26
        },
        {
          "output_type": "display_data",
          "data": {
            "image/png": "[encoded data removed]",
            "text/plain": [
              "<Figure size 432x288 with 2 Axes>"
            ]
          },
          "metadata": {
            "needs_background": "light"
          }
        }
      ]
    },
    {
      "cell_type": "markdown",
      "source": [
        "<p style=\"font-size: 120%\"> 이제 목적은 최대 상관관계 갖는 특징 찾는 것(대각선 제외) </p>"
      ],
      "metadata": {
        "id": "dN0H7-AY-7XJ"
      }
    },
    {
      "cell_type": "code",
      "source": [
        "def topn(df,n):\n",
        "    npa = df.values\n",
        "    \n",
        "    npa = np.tril(npa, -1)\n",
        "    topn_ind = np.argpartition(npa,-n,None)[-n:]  # flattened ind, unsorted\n",
        "    topn_ind = topn_ind[np.argsort(npa.flat[topn_ind])][::-1]  # arg sort in descending order\n",
        "    cols,indx = np.unravel_index(topn_ind,npa.shape,'F')  # unflatten, using column-major ordering\n",
        "    \n",
        "    return ([df.columns[c] for c in cols],[df.index[i] for i in indx])"
      ],
      "metadata": {
        "_kg_hide-input": true,
        "execution": {
          "iopub.status.busy": "2021-10-04T20:26:55.071144Z",
          "iopub.execute_input": "2021-10-04T20:26:55.071355Z",
          "iopub.status.idle": "2021-10-04T20:26:55.078206Z",
          "shell.execute_reply.started": "2021-10-04T20:26:55.071330Z",
          "shell.execute_reply": "2021-10-04T20:26:55.077590Z"
        },
        "trusted": true,
        "id": "LExKsGHK-7XJ"
      },
      "execution_count": 27,
      "outputs": []
    },
    {
      "cell_type": "markdown",
      "source": [
        "<p style=\"font-size: 120%\"> 단순화 위해 상위 6개 관계 출력 </p>"
      ],
      "metadata": {
        "id": "wN5nFFR--7XK"
      }
    },
    {
      "cell_type": "code",
      "source": [
        "max_corr_x , max_corr_y = topn(df.corr(),6)\n",
        "\n",
        "print(\"상관관계: \".center(20),end=\"\\n\\n\")\n",
        "\n",
        "for i in range(len(max_corr_x)):\n",
        "    print(f\"\\t{max_corr_x[i]} <-> {max_corr_y[i]}\")"
      ],
      "metadata": {
        "_kg_hide-input": true,
        "execution": {
          "iopub.status.busy": "2021-10-04T20:26:55.079180Z",
          "iopub.execute_input": "2021-10-04T20:26:55.080027Z",
          "iopub.status.idle": "2021-10-04T20:26:55.091714Z",
          "shell.execute_reply.started": "2021-10-04T20:26:55.079994Z",
          "shell.execute_reply": "2021-10-04T20:26:55.090859Z"
        },
        "trusted": true,
        "colab": {
          "base_uri": "https://localhost:8080/"
        },
        "id": "t-rRytO0-7XK",
        "outputId": "34748c0d-4846-4285-a51e-16e9162ffd6e"
      },
      "execution_count": 28,
      "outputs": [
        {
          "output_type": "stream",
          "name": "stdout",
          "text": [
            "       상관관계:        \n",
            "\n",
            "\tYELLOW_FINGERS <-> ANXIETY\n",
            "\tANXIETY <-> SWALLOWING DIFFICULTY\n",
            "\tGENDER <-> ALCOHOL CONSUMING\n",
            "\tFATIGUE  <-> SHORTNESS OF BREATH\n",
            "\tALLERGY  <-> ALCOHOL CONSUMING\n",
            "\tGENDER <-> CHEST PAIN\n"
          ]
        }
      ]
    },
    {
      "cell_type": "markdown",
      "source": [
        "상위 6개 관계 시각화"
      ],
      "metadata": {
        "id": "RA4X4C09YHSl"
      }
    },
    {
      "cell_type": "code",
      "source": [
        "fig, axes = plt.subplots(3, 2, figsize=(15, 15))\n",
        "fig.suptitle('Relations')\n",
        "\n",
        "axes = axes.reshape(6,)\n",
        "\n",
        "for i in range(len(max_corr_x)):\n",
        "    sns.scatterplot(ax = axes[i],data = df, x= max_corr_x[i],y=max_corr_y[i])"
      ],
      "metadata": {
        "_kg_hide-input": true,
        "execution": {
          "iopub.status.busy": "2021-10-04T20:26:55.093230Z",
          "iopub.execute_input": "2021-10-04T20:26:55.093487Z",
          "iopub.status.idle": "2021-10-04T20:26:56.608345Z",
          "shell.execute_reply.started": "2021-10-04T20:26:55.093458Z",
          "shell.execute_reply": "2021-10-04T20:26:56.607743Z"
        },
        "trusted": true,
        "id": "aevdMkPZ-7XL"
      },
      "execution_count": null,
      "outputs": []
    },
    {
      "cell_type": "markdown",
      "source": [
        "그다지 인상적인 결과는 아님 -> 모든 관계 시각화"
      ],
      "metadata": {
        "id": "NZaWgD8T-7XL"
      }
    },
    {
      "cell_type": "code",
      "source": [
        "col_num = len(df.columns)\n",
        "fig, axes = plt.subplots(12, 10, figsize=(55, 55))\n",
        "fig.suptitle('All Relations')\n",
        "\n",
        "axes = axes.reshape(120,)\n",
        "\n",
        "cnt = 0\n",
        "for i in range(col_num):\n",
        "    for j in range(i+1,col_num):\n",
        "        sns.scatterplot(ax = axes[cnt],data = df, x= df.columns[i],y=df.columns[j])\n",
        "        \n",
        "        cnt += 1"
      ],
      "metadata": {
        "_kg_hide-input": true,
        "execution": {
          "iopub.status.busy": "2021-10-04T20:26:56.609466Z",
          "iopub.execute_input": "2021-10-04T20:26:56.609700Z",
          "iopub.status.idle": "2021-10-04T20:27:25.233389Z",
          "shell.execute_reply.started": "2021-10-04T20:26:56.609673Z",
          "shell.execute_reply": "2021-10-04T20:27:25.232399Z"
        },
        "trusted": true,
        "id": "Bov4Bm9P-7XL"
      },
      "execution_count": null,
      "outputs": []
    },
    {
      "cell_type": "markdown",
      "source": [
        "# 모델 학습 위한 데이터 전처리"
      ],
      "metadata": {
        "id": "3dJi5kkq-7XL"
      }
    },
    {
      "cell_type": "markdown",
      "source": [
        "<p style=\"font-size: 120%\"> 데이터가 불균형하기 때문에 아래 방법 수행  <br>\n",
        "1) LUNG_CANCER에 대해 NO가 있는 모든 레코드 추출 <br>\n",
        "2) LUNG_CANCER에 대해 YES인 임의 레코드 선택 <br>\n",
        "3) 수집된 데이터를 train과 test로 분할 <br> \n",
        "4) model로 보내기</p>"
      ],
      "metadata": {
        "id": "owGY92vk-7XM"
      }
    },
    {
      "cell_type": "code",
      "source": [
        "df = df.sort_values(by='LUNG_CANCER')"
      ],
      "metadata": {
        "_kg_hide-input": true,
        "execution": {
          "iopub.status.busy": "2021-10-04T20:27:25.234587Z",
          "iopub.execute_input": "2021-10-04T20:27:25.234833Z",
          "iopub.status.idle": "2021-10-04T20:27:25.240690Z",
          "shell.execute_reply.started": "2021-10-04T20:27:25.234803Z",
          "shell.execute_reply": "2021-10-04T20:27:25.239680Z"
        },
        "trusted": true,
        "id": "phmHo_uw-7XM"
      },
      "execution_count": 31,
      "outputs": []
    },
    {
      "cell_type": "code",
      "source": [
        "no_df = df.iloc[:freqs[1]]\n",
        "\n",
        "yes_df = pd.concat([df, no_df,no_df]).drop_duplicates(keep=False)  # 모든 중복값 삭제\n",
        "#yes_df"
      ],
      "metadata": {
        "_kg_hide-input": true,
        "execution": {
          "iopub.status.busy": "2021-10-04T20:27:25.242113Z",
          "iopub.execute_input": "2021-10-04T20:27:25.242436Z",
          "iopub.status.idle": "2021-10-04T20:27:25.260149Z",
          "shell.execute_reply.started": "2021-10-04T20:27:25.242398Z",
          "shell.execute_reply": "2021-10-04T20:27:25.259198Z"
        },
        "trusted": true,
        "id": "lunQ-q9O-7XM"
      },
      "execution_count": 87,
      "outputs": []
    },
    {
      "cell_type": "code",
      "source": [
        "random_yes_df = yes_df.sample(n = 2*freqs[1])\n",
        "random_yes_df\n",
        "random_no_df = yes_df.sample(n = 3*freqs[0])\n",
        "\n",
        "\n",
        "train_df = pd.concat([random_yes_df,no_df])\n",
        "len(train_df)  # 114\n",
        "\n",
        "test_df = pd.concat([yes_df, random_yes_df,no_df]).drop_duplicates(keep=False)\n",
        "len(test_df)  # 162"
      ],
      "metadata": {
        "_kg_hide-input": true,
        "execution": {
          "iopub.status.busy": "2021-10-04T20:27:25.261625Z",
          "iopub.execute_input": "2021-10-04T20:27:25.261892Z",
          "iopub.status.idle": "2021-10-04T20:27:25.276250Z",
          "shell.execute_reply.started": "2021-10-04T20:27:25.261863Z",
          "shell.execute_reply": "2021-10-04T20:27:25.275444Z"
        },
        "trusted": true,
        "id": "SEbVw046-7XM",
        "colab": {
          "base_uri": "https://localhost:8080/",
          "height": 390
        },
        "outputId": "0b19d405-be13-4f3b-b587-5b6b5d4d0376"
      },
      "execution_count": 88,
      "outputs": [
        {
          "output_type": "error",
          "ename": "ValueError",
          "evalue": "ignored",
          "traceback": [
            "\u001b[0;31m---------------------------------------------------------------------------\u001b[0m",
            "\u001b[0;31mValueError\u001b[0m                                Traceback (most recent call last)",
            "\u001b[0;32m<ipython-input-88-3bdfd257cfca>\u001b[0m in \u001b[0;36m<module>\u001b[0;34m()\u001b[0m\n\u001b[1;32m      1\u001b[0m \u001b[0mrandom_yes_df\u001b[0m \u001b[0;34m=\u001b[0m \u001b[0myes_df\u001b[0m\u001b[0;34m.\u001b[0m\u001b[0msample\u001b[0m\u001b[0;34m(\u001b[0m\u001b[0mn\u001b[0m \u001b[0;34m=\u001b[0m \u001b[0;36m2\u001b[0m\u001b[0;34m*\u001b[0m\u001b[0mfreqs\u001b[0m\u001b[0;34m[\u001b[0m\u001b[0;36m1\u001b[0m\u001b[0;34m]\u001b[0m\u001b[0;34m)\u001b[0m\u001b[0;34m\u001b[0m\u001b[0;34m\u001b[0m\u001b[0m\n\u001b[1;32m      2\u001b[0m \u001b[0mrandom_yes_df\u001b[0m\u001b[0;34m\u001b[0m\u001b[0;34m\u001b[0m\u001b[0m\n\u001b[0;32m----> 3\u001b[0;31m \u001b[0mrandom_no_df\u001b[0m \u001b[0;34m=\u001b[0m \u001b[0myes_df\u001b[0m\u001b[0;34m.\u001b[0m\u001b[0msample\u001b[0m\u001b[0;34m(\u001b[0m\u001b[0mn\u001b[0m \u001b[0;34m=\u001b[0m \u001b[0;36m3\u001b[0m\u001b[0;34m*\u001b[0m\u001b[0mfreqs\u001b[0m\u001b[0;34m[\u001b[0m\u001b[0;36m0\u001b[0m\u001b[0;34m]\u001b[0m\u001b[0;34m)\u001b[0m\u001b[0;34m\u001b[0m\u001b[0;34m\u001b[0m\u001b[0m\n\u001b[0m\u001b[1;32m      4\u001b[0m \u001b[0;34m\u001b[0m\u001b[0m\n\u001b[1;32m      5\u001b[0m \u001b[0;34m\u001b[0m\u001b[0m\n",
            "\u001b[0;32m/usr/local/lib/python3.7/dist-packages/pandas/core/generic.py\u001b[0m in \u001b[0;36msample\u001b[0;34m(self, n, frac, replace, weights, random_state, axis)\u001b[0m\n\u001b[1;32m   4993\u001b[0m             )\n\u001b[1;32m   4994\u001b[0m \u001b[0;34m\u001b[0m\u001b[0m\n\u001b[0;32m-> 4995\u001b[0;31m         \u001b[0mlocs\u001b[0m \u001b[0;34m=\u001b[0m \u001b[0mrs\u001b[0m\u001b[0;34m.\u001b[0m\u001b[0mchoice\u001b[0m\u001b[0;34m(\u001b[0m\u001b[0maxis_length\u001b[0m\u001b[0;34m,\u001b[0m \u001b[0msize\u001b[0m\u001b[0;34m=\u001b[0m\u001b[0mn\u001b[0m\u001b[0;34m,\u001b[0m \u001b[0mreplace\u001b[0m\u001b[0;34m=\u001b[0m\u001b[0mreplace\u001b[0m\u001b[0;34m,\u001b[0m \u001b[0mp\u001b[0m\u001b[0;34m=\u001b[0m\u001b[0mweights\u001b[0m\u001b[0;34m)\u001b[0m\u001b[0;34m\u001b[0m\u001b[0;34m\u001b[0m\u001b[0m\n\u001b[0m\u001b[1;32m   4996\u001b[0m         \u001b[0;32mreturn\u001b[0m \u001b[0mself\u001b[0m\u001b[0;34m.\u001b[0m\u001b[0mtake\u001b[0m\u001b[0;34m(\u001b[0m\u001b[0mlocs\u001b[0m\u001b[0;34m,\u001b[0m \u001b[0maxis\u001b[0m\u001b[0;34m=\u001b[0m\u001b[0maxis\u001b[0m\u001b[0;34m)\u001b[0m\u001b[0;34m\u001b[0m\u001b[0;34m\u001b[0m\u001b[0m\n\u001b[1;32m   4997\u001b[0m \u001b[0;34m\u001b[0m\u001b[0m\n",
            "\u001b[0;32mmtrand.pyx\u001b[0m in \u001b[0;36mnumpy.random.mtrand.RandomState.choice\u001b[0;34m()\u001b[0m\n",
            "\u001b[0;31mValueError\u001b[0m: Cannot take a larger sample than population when 'replace=False'"
          ]
        }
      ]
    },
    {
      "cell_type": "code",
      "source": [
        "xtr = np.array(train_df.drop(columns = ['LUNG_CANCER']))  # X train\n",
        "ytr = np.array(train_df['LUNG_CANCER'])  # y train\n",
        "\n",
        "xte = np.array(test_df.drop(columns = ['LUNG_CANCER']))  # X test\n",
        "yte = np.array(test_df['LUNG_CANCER'])  # y test"
      ],
      "metadata": {
        "_kg_hide-input": true,
        "execution": {
          "iopub.status.busy": "2021-10-04T20:27:25.277473Z",
          "iopub.execute_input": "2021-10-04T20:27:25.278178Z",
          "iopub.status.idle": "2021-10-04T20:27:25.287013Z",
          "shell.execute_reply.started": "2021-10-04T20:27:25.278145Z",
          "shell.execute_reply": "2021-10-04T20:27:25.285996Z"
        },
        "trusted": true,
        "id": "IvJLZfCF-7XM"
      },
      "execution_count": 82,
      "outputs": []
    },
    {
      "cell_type": "code",
      "source": [
        "scaler = MinMaxScaler(copy=True, feature_range=(0, 1))\n",
        "\n",
        "xtr = scaler.fit_transform(xtr)\n",
        "xte = scaler.fit_transform(xte)"
      ],
      "metadata": {
        "_kg_hide-input": true,
        "execution": {
          "iopub.status.busy": "2021-10-04T20:27:25.288375Z",
          "iopub.execute_input": "2021-10-04T20:27:25.289070Z",
          "iopub.status.idle": "2021-10-04T20:27:25.299392Z",
          "shell.execute_reply.started": "2021-10-04T20:27:25.289037Z",
          "shell.execute_reply": "2021-10-04T20:27:25.298400Z"
        },
        "trusted": true,
        "id": "h8XP4qt7-7XN"
      },
      "execution_count": 83,
      "outputs": []
    },
    {
      "cell_type": "code",
      "source": [
        "print(\"x train shape:\", end =\" \")\n",
        "print(xtr.shape)\n",
        "\n",
        "print(\"y train shape:\", end =\" \")\n",
        "print(ytr.shape)\n",
        "\n",
        "print()\n",
        "\n",
        "print(\"x test shape:\", end =\" \")\n",
        "print(xte.shape)\n",
        "\n",
        "print(\"y test shape:\", end =\" \")\n",
        "print(yte.shape)"
      ],
      "metadata": {
        "_kg_hide-input": true,
        "execution": {
          "iopub.status.busy": "2021-10-04T20:27:25.301948Z",
          "iopub.execute_input": "2021-10-04T20:27:25.302891Z",
          "iopub.status.idle": "2021-10-04T20:27:25.311042Z",
          "shell.execute_reply.started": "2021-10-04T20:27:25.302858Z",
          "shell.execute_reply": "2021-10-04T20:27:25.310208Z"
        },
        "trusted": true,
        "colab": {
          "base_uri": "https://localhost:8080/"
        },
        "id": "d3iNRnhc-7XN",
        "outputId": "b14f70db-14e6-4975-b228-1218d7975d72"
      },
      "execution_count": 84,
      "outputs": [
        {
          "output_type": "stream",
          "name": "stdout",
          "text": [
            "x train shape: (114, 15)\n",
            "y train shape: (114,)\n",
            "\n",
            "x test shape: (200, 15)\n",
            "y test shape: (200,)\n"
          ]
        }
      ]
    },
    {
      "cell_type": "markdown",
      "source": [
        "# 모델 생성"
      ],
      "metadata": {
        "id": "vaMyqdoo-7XN"
      }
    },
    {
      "cell_type": "markdown",
      "source": [
        "## 트리 기반 모델들"
      ],
      "metadata": {
        "id": "IIE7yCnP-7XN"
      }
    },
    {
      "cell_type": "markdown",
      "source": [
        "### Decision Tree Classifier"
      ],
      "metadata": {
        "id": "XnD_f5ew-7XN"
      }
    },
    {
      "cell_type": "code",
      "source": [
        "Model_DecisionTreeClassifier = DecisionTreeClassifier()\n",
        "Model_DecisionTreeClassifier.fit(xtr,ytr)\n",
        "\n",
        "predictions = Model_DecisionTreeClassifier.predict(xte)\n",
        "conf_matrix = metrics.confusion_matrix(yte, predictions)\n",
        "\n",
        "sns.heatmap(conf_matrix,annot=True,cmap=\"PiYG\",fmt='g',cbar=True)"
      ],
      "metadata": {
        "_kg_hide-input": true,
        "execution": {
          "iopub.status.busy": "2021-10-04T20:27:25.314038Z",
          "iopub.execute_input": "2021-10-04T20:27:25.314336Z",
          "iopub.status.idle": "2021-10-04T20:27:25.479813Z",
          "shell.execute_reply.started": "2021-10-04T20:27:25.314304Z",
          "shell.execute_reply": "2021-10-04T20:27:25.478998Z"
        },
        "trusted": true,
        "colab": {
          "base_uri": "https://localhost:8080/",
          "height": 286
        },
        "id": "w2-BPqrU-7XN",
        "outputId": "68b880a0-4c4a-4bd4-da99-70f61e7318aa"
      },
      "execution_count": 85,
      "outputs": [
        {
          "output_type": "execute_result",
          "data": {
            "text/plain": [
              "<matplotlib.axes._subplots.AxesSubplot at 0x7f3287b5f950>"
            ]
          },
          "metadata": {},
          "execution_count": 85
        },
        {
          "output_type": "display_data",
          "data": {
            "image/png": "[encoded data removed]",
            "text/plain": [
              "<Figure size 432x288 with 2 Axes>"
            ]
          },
          "metadata": {}
        }
      ]
    },
    {
      "cell_type": "markdown",
      "source": [
        "### Random Forest Classifier"
      ],
      "metadata": {
        "id": "l0q78_hQ-7XO"
      }
    },
    {
      "cell_type": "code",
      "source": [
        "Model_RandomForestClassifier = RandomForestClassifier(n_estimators = 500,max_depth = 25,criterion=\"entropy\")\n",
        "Model_RandomForestClassifier.fit(xtr,ytr)\n",
        "\n",
        "predictions = Model_RandomForestClassifier.predict(xte)\n",
        "conf_matrix = metrics.confusion_matrix(yte, predictions)\n",
        "# 0x축 여자   1x 남자    y축 0 =노암  1=암\n",
        "sns.heatmap(conf_matrix,annot=True,cmap=\"PiYG\",fmt='g',cbar=True)"
      ],
      "metadata": {
        "_kg_hide-input": true,
        "execution": {
          "iopub.status.busy": "2021-10-04T20:27:25.480942Z",
          "iopub.execute_input": "2021-10-04T20:27:25.481333Z",
          "iopub.status.idle": "2021-10-04T20:27:26.614034Z",
          "shell.execute_reply.started": "2021-10-04T20:27:25.481299Z",
          "shell.execute_reply": "2021-10-04T20:27:26.613202Z"
        },
        "trusted": true,
        "colab": {
          "base_uri": "https://localhost:8080/",
          "height": 286
        },
        "id": "UWf6KTrY-7XO",
        "outputId": "49d119a2-cd1a-4ea8-bcf2-011fd04e5198"
      },
      "execution_count": 86,
      "outputs": [
        {
          "output_type": "execute_result",
          "data": {
            "text/plain": [
              "<matplotlib.axes._subplots.AxesSubplot at 0x7f3296737b90>"
            ]
          },
          "metadata": {},
          "execution_count": 86
        },
        {
          "output_type": "display_data",
          "data": {
            "image/png": "[encoded data removed]",
            "text/plain": [
              "<Figure size 432x288 with 2 Axes>"
            ]
          },
          "metadata": {}
        }
      ]
    },
    {
      "cell_type": "markdown",
      "source": [
        "### XGBoost"
      ],
      "metadata": {
        "id": "gXFmCsKU-7XO"
      }
    },
    {
      "cell_type": "code",
      "source": [
        "Model_XGBClassifier = XGBClassifier(use_label_encoder=False, eval_metric='mlogloss',learning_rate=0.01)\n",
        "Model_XGBClassifier.fit(xtr,ytr)\n",
        "\n",
        "predictions = Model_XGBClassifier.predict(xte)\n",
        "conf_matrix = metrics.confusion_matrix(yte, predictions)\n",
        "\n",
        "sns.heatmap(conf_matrix,annot=True,cmap=\"PiYG\",fmt='g',cbar=True)"
      ],
      "metadata": {
        "_kg_hide-input": true,
        "execution": {
          "iopub.status.busy": "2021-10-04T20:27:26.615179Z",
          "iopub.execute_input": "2021-10-04T20:27:26.615477Z",
          "iopub.status.idle": "2021-10-04T20:27:26.833779Z",
          "shell.execute_reply.started": "2021-10-04T20:27:26.615448Z",
          "shell.execute_reply": "2021-10-04T20:27:26.832973Z"
        },
        "trusted": true,
        "colab": {
          "base_uri": "https://localhost:8080/",
          "height": 286
        },
        "id": "jmiFzuv3-7XO",
        "outputId": "f36ad59b-ee37-4c5e-c27a-d7d0dd66c22c"
      },
      "execution_count": 67,
      "outputs": [
        {
          "output_type": "execute_result",
          "data": {
            "text/plain": [
              "<matplotlib.axes._subplots.AxesSubplot at 0x7f3297d2a950>"
            ]
          },
          "metadata": {},
          "execution_count": 67
        },
        {
          "output_type": "display_data",
          "data": {
            "image/png": "[encoded data removed]",
            "text/plain": [
              "<Figure size 432x288 with 2 Axes>"
            ]
          },
          "metadata": {}
        }
      ]
    },
    {
      "cell_type": "markdown",
      "source": [
        "## Other standart algorithms"
      ],
      "metadata": {
        "id": "XKYw4Rk--7XO"
      }
    },
    {
      "cell_type": "markdown",
      "source": [
        "### Logistic Regression"
      ],
      "metadata": {
        "id": "jyLlSlpS-7XP"
      }
    },
    {
      "cell_type": "code",
      "source": [
        "Model_LogisticRegression = LogisticRegression()\n",
        "Model_LogisticRegression.fit(xtr,ytr)\n",
        "\n",
        "\n",
        "predictions = Model_LogisticRegression.predict(xte)\n",
        "conf_matrix = metrics.confusion_matrix(yte, predictions)\n",
        "\n",
        "sns.heatmap(conf_matrix,annot=True,cmap=\"PiYG\",fmt='g',cbar=True)"
      ],
      "metadata": {
        "_kg_hide-input": true,
        "execution": {
          "iopub.status.busy": "2021-10-04T20:27:26.834808Z",
          "iopub.execute_input": "2021-10-04T20:27:26.835035Z",
          "iopub.status.idle": "2021-10-04T20:27:27.015722Z",
          "shell.execute_reply.started": "2021-10-04T20:27:26.835009Z",
          "shell.execute_reply": "2021-10-04T20:27:27.014924Z"
        },
        "trusted": true,
        "colab": {
          "base_uri": "https://localhost:8080/",
          "height": 286
        },
        "id": "C-ADARto-7XP",
        "outputId": "987334a6-92ca-48bc-fced-a8b9fc05d8da"
      },
      "execution_count": 68,
      "outputs": [
        {
          "output_type": "execute_result",
          "data": {
            "text/plain": [
              "<matplotlib.axes._subplots.AxesSubplot at 0x7f3296084b10>"
            ]
          },
          "metadata": {},
          "execution_count": 68
        },
        {
          "output_type": "display_data",
          "data": {
            "image/png": "[encoded data removed]",
            "text/plain": [
              "<Figure size 432x288 with 2 Axes>"
            ]
          },
          "metadata": {}
        }
      ]
    },
    {
      "cell_type": "markdown",
      "source": [
        "### KNN"
      ],
      "metadata": {
        "id": "FxXQC_jz-7XP"
      }
    },
    {
      "cell_type": "code",
      "source": [
        "Model_KNN = KNeighborsClassifier(n_neighbors=2)\n",
        "Model_KNN.fit(xtr,ytr)\n",
        "\n",
        "predictions = Model_KNN.predict(xte)\n",
        "conf_matrix = metrics.confusion_matrix(yte, predictions)\n",
        "\n",
        "sns.heatmap(conf_matrix,annot=True,cmap=\"PiYG\",fmt='g',cbar=True)"
      ],
      "metadata": {
        "_kg_hide-input": true,
        "execution": {
          "iopub.status.busy": "2021-10-04T20:27:27.017177Z",
          "iopub.execute_input": "2021-10-04T20:27:27.017495Z",
          "iopub.status.idle": "2021-10-04T20:27:27.190213Z",
          "shell.execute_reply.started": "2021-10-04T20:27:27.017453Z",
          "shell.execute_reply": "2021-10-04T20:27:27.189267Z"
        },
        "trusted": true,
        "colab": {
          "base_uri": "https://localhost:8080/",
          "height": 286
        },
        "id": "bbcvR9m6-7XP",
        "outputId": "0e6d047c-479c-46a8-c0d0-11aa0be8f6d3"
      },
      "execution_count": 69,
      "outputs": [
        {
          "output_type": "execute_result",
          "data": {
            "text/plain": [
              "<matplotlib.axes._subplots.AxesSubplot at 0x7f3297cb9a50>"
            ]
          },
          "metadata": {},
          "execution_count": 69
        },
        {
          "output_type": "display_data",
          "data": {
            "image/png": "[encoded data removed]",
            "text/plain": [
              "<Figure size 432x288 with 2 Axes>"
            ]
          },
          "metadata": {}
        }
      ]
    },
    {
      "cell_type": "markdown",
      "source": [
        "### Support Vector Machine"
      ],
      "metadata": {
        "id": "IPT2Dnce-7XP"
      }
    },
    {
      "cell_type": "code",
      "source": [
        "Model_SVC = SVC(kernel = 'rbf',gamma=1)\n",
        "Model_SVC.fit(xtr, ytr)\n",
        "\n",
        "predictions = Model_SVC.predict(xte)\n",
        "conf_matrix = metrics.confusion_matrix(yte, predictions)\n",
        "\n",
        "sns.heatmap(conf_matrix,annot=True,cmap=\"PiYG\",fmt='g',cbar=True)"
      ],
      "metadata": {
        "_kg_hide-input": true,
        "execution": {
          "iopub.status.busy": "2021-10-04T20:27:27.191358Z",
          "iopub.execute_input": "2021-10-04T20:27:27.191599Z",
          "iopub.status.idle": "2021-10-04T20:27:27.358797Z",
          "shell.execute_reply.started": "2021-10-04T20:27:27.191570Z",
          "shell.execute_reply": "2021-10-04T20:27:27.357896Z"
        },
        "trusted": true,
        "colab": {
          "base_uri": "https://localhost:8080/",
          "height": 286
        },
        "id": "MS3K_NCt-7XP",
        "outputId": "38011b8e-aaaa-433e-f016-a950434e29c4"
      },
      "execution_count": 70,
      "outputs": [
        {
          "output_type": "execute_result",
          "data": {
            "text/plain": [
              "<matplotlib.axes._subplots.AxesSubplot at 0x7f3297f686d0>"
            ]
          },
          "metadata": {},
          "execution_count": 70
        },
        {
          "output_type": "display_data",
          "data": {
            "image/png": "[encoded data removed]",
            "text/plain": [
              "<Figure size 432x288 with 2 Axes>"
            ]
          },
          "metadata": {}
        }
      ]
    },
    {
      "cell_type": "markdown",
      "source": [
        "## 인공신경망 네트워크"
      ],
      "metadata": {
        "id": "s1pyCC4I-7XQ"
      }
    },
    {
      "cell_type": "code",
      "source": [
        "optim = Adam(\n",
        "    learning_rate=0.0008,\n",
        ")\n",
        "\n",
        "Model_Sequential = Sequential()\n",
        "\n",
        "Model_Sequential.add(Dense(32, input_shape=(xtr.shape[1],), activation='relu',kernel_initializer='normal'))\n",
        "Model_Sequential.add(Dense(21, activation='relu',kernel_initializer='normal'))\n",
        "Model_Sequential.add(Dense(14, activation='relu',kernel_initializer='normal'))\n",
        "\n",
        "\n",
        "Model_Sequential.add(Dense(1, activation='sigmoid'))\n",
        "Model_Sequential.summary()\n",
        "\n",
        "es = EarlyStopping(monitor='val_accuracy', mode='max',patience=5,restore_best_weights=False)\n",
        "\n",
        "\n",
        "Model_Sequential.compile(optimizer=optim, loss='binary_crossentropy',metrics='accuracy')"
      ],
      "metadata": {
        "_kg_hide-input": true,
        "execution": {
          "iopub.status.busy": "2021-10-04T20:27:27.361302Z",
          "iopub.execute_input": "2021-10-04T20:27:27.361860Z",
          "iopub.status.idle": "2021-10-04T20:27:27.418631Z",
          "shell.execute_reply.started": "2021-10-04T20:27:27.361826Z",
          "shell.execute_reply": "2021-10-04T20:27:27.417719Z"
        },
        "trusted": true,
        "colab": {
          "base_uri": "https://localhost:8080/"
        },
        "id": "r-4paES2-7XQ",
        "outputId": "f9639f31-5620-4adf-c81a-e2ed7c57313e"
      },
      "execution_count": 71,
      "outputs": [
        {
          "output_type": "stream",
          "name": "stdout",
          "text": [
            "Model: \"sequential\"\n",
            "_________________________________________________________________\n",
            " Layer (type)                Output Shape              Param #   \n",
            "=================================================================\n",
            " dense (Dense)               (None, 32)                512       \n",
            "                                                                 \n",
            " dense_1 (Dense)             (None, 21)                693       \n",
            "                                                                 \n",
            " dense_2 (Dense)             (None, 14)                308       \n",
            "                                                                 \n",
            " dense_3 (Dense)             (None, 1)                 15        \n",
            "                                                                 \n",
            "=================================================================\n",
            "Total params: 1,528\n",
            "Trainable params: 1,528\n",
            "Non-trainable params: 0\n",
            "_________________________________________________________________\n"
          ]
        }
      ]
    },
    {
      "cell_type": "code",
      "source": [
        "history = Model_Sequential.fit(xtr,ytr,callbacks = [es],epochs=100,batch_size=1,validation_data = (xte,yte),shuffle=True)"
      ],
      "metadata": {
        "_kg_hide-input": true,
        "execution": {
          "iopub.status.busy": "2021-10-04T20:27:27.420451Z",
          "iopub.execute_input": "2021-10-04T20:27:27.420761Z",
          "iopub.status.idle": "2021-10-04T20:27:29.820950Z",
          "shell.execute_reply.started": "2021-10-04T20:27:27.420717Z",
          "shell.execute_reply": "2021-10-04T20:27:29.820352Z"
        },
        "trusted": true,
        "colab": {
          "base_uri": "https://localhost:8080/"
        },
        "id": "Fxfs3DvU-7XQ",
        "outputId": "357a0b5a-44cc-4763-d32e-bf6dd1c6fcb9"
      },
      "execution_count": 72,
      "outputs": [
        {
          "output_type": "stream",
          "name": "stdout",
          "text": [
            "Epoch 1/100\n",
            "114/114 [==============================] - 1s 5ms/step - loss: 0.6599 - accuracy: 0.6667 - val_loss: 0.4228 - val_accuracy: 1.0000\n",
            "Epoch 2/100\n",
            "114/114 [==============================] - 1s 5ms/step - loss: 0.5534 - accuracy: 0.6667 - val_loss: 0.1772 - val_accuracy: 1.0000\n",
            "Epoch 3/100\n",
            "114/114 [==============================] - 1s 5ms/step - loss: 0.4972 - accuracy: 0.6667 - val_loss: 0.2276 - val_accuracy: 0.9877\n",
            "Epoch 4/100\n",
            "114/114 [==============================] - 1s 5ms/step - loss: 0.4533 - accuracy: 0.7632 - val_loss: 0.1843 - val_accuracy: 0.9815\n",
            "Epoch 5/100\n",
            "114/114 [==============================] - 1s 5ms/step - loss: 0.4024 - accuracy: 0.7982 - val_loss: 0.1177 - val_accuracy: 0.9691\n",
            "Epoch 6/100\n",
            "114/114 [==============================] - 0s 3ms/step - loss: 0.3436 - accuracy: 0.8860 - val_loss: 0.2171 - val_accuracy: 0.9259\n"
          ]
        }
      ]
    },
    {
      "cell_type": "code",
      "source": [
        "predictions = (Model_Sequential.predict(xte) > 0.5).astype('int32').reshape(xte.shape[0],)\n",
        "conf_matrix = metrics.confusion_matrix(yte, predictions)\n",
        "\n",
        "sns.heatmap(conf_matrix,annot=True,cmap=\"PiYG\",fmt='g',cbar=True)"
      ],
      "metadata": {
        "_kg_hide-input": true,
        "execution": {
          "iopub.status.busy": "2021-10-04T20:27:29.822125Z",
          "iopub.execute_input": "2021-10-04T20:27:29.822845Z",
          "iopub.status.idle": "2021-10-04T20:27:30.070542Z",
          "shell.execute_reply.started": "2021-10-04T20:27:29.822799Z",
          "shell.execute_reply": "2021-10-04T20:27:30.069809Z"
        },
        "trusted": true,
        "colab": {
          "base_uri": "https://localhost:8080/",
          "height": 286
        },
        "id": "AZynY8os-7XQ",
        "outputId": "e8616c0c-79f8-47d1-f4ea-a4d1006b3a45"
      },
      "execution_count": 73,
      "outputs": [
        {
          "output_type": "execute_result",
          "data": {
            "text/plain": [
              "<matplotlib.axes._subplots.AxesSubplot at 0x7f3287c73110>"
            ]
          },
          "metadata": {},
          "execution_count": 73
        },
        {
          "output_type": "display_data",
          "data": {
            "image/png": "[encoded data removed]",
            "text/plain": [
              "<Figure size 432x288 with 2 Axes>"
            ]
          },
          "metadata": {}
        }
      ]
    },
    {
      "cell_type": "markdown",
      "source": [
        "# 결론"
      ],
      "metadata": {
        "id": "Tit1eMWC-7XQ"
      }
    },
    {
      "cell_type": "markdown",
      "source": [
        "데이터 양이 적고 불균형하기 때문에 결과가 일관성 없을 수 있음  \n",
        "-> 추후 개선 예정"
      ],
      "metadata": {
        "id": "yzbMQ9bj-7XR"
      }
    }
  ]
}