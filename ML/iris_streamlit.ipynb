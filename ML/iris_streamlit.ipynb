{
 "cells": [
  {
   "cell_type": "code",
   "execution_count": 1,
   "id": "9e255b87",
   "metadata": {},
   "outputs": [
    {
     "name": "stdout",
     "output_type": "stream",
     "text": [
      "Writing iris_app.py\n"
     ]
    }
   ],
   "source": [
    "%%writefile iris_app.py\n",
    "\n",
    "import streamlit as st\n",
    "import pandas as pd\n",
    "from sklearn import datasets\n",
    "from sklearn import svm\n",
    "\n",
    "st.header(\"IRIS 품종 예측 앱\")\n",
    "st.subheader(\"IRIS 품종을 예측하는 앱입니다.\")\n",
    "\n",
    "st.sidebar.header(\"입력값을 선택!\")\n",
    "\n",
    "def user_input():\n",
    "\n",
    "    sep_l = st.sidebar.slider('Sepal length', 4.3, 7.9, 5.8)\n",
    "    sep_w = st.sidebar.slider('Sepal width', 2.0, 4.4, 3.1)\n",
    "    pet_l = st.sidebar.slider('Petal length', 1.0, 6.9, 3.5)\n",
    "    pet_w = st.sidebar.slider('Petal width', 0.1, 2.5, 1.7)\n",
    "    data = {\n",
    "        'sepal_lenght' : sep_l,\n",
    "        'sepal_width' : sep_w,\n",
    "        'petal_lenght' : pet_l,\n",
    "        'petal_width' : pet_w              \n",
    "    }\n",
    "    \n",
    "    return pd.DataFrame(data, index=[0])\n",
    "\n",
    "df = user_input()\n",
    "st.markdown(\"### 선택한 속성값\")\n",
    "st.write(df)\n",
    "iris = datasets.load_iris()\n",
    "X = iris.data\n",
    "y = iris.target\n",
    "clf = svm.SVC()       \n",
    "clf.fit(X, y)  \n",
    "\n",
    "prediction = clf.predict(df)\n",
    "st.markdown(\"### 예측한 타겟값\")\n",
    "st.write(prediction)\n",
    "st.markdown(\"### 예측한 품종\")\n",
    "st.write(iris.target_names[prediction])"
   ]
  },
  {
   "cell_type": "code",
   "execution_count": null,
   "id": "6dfa7d71",
   "metadata": {},
   "outputs": [],
   "source": [
    "!streamlit run iris_app.py"
   ]
  }
 ],
 "metadata": {
  "kernelspec": {
   "display_name": "Python 3 (ipykernel)",
   "language": "python",
   "name": "python3"
  },
  "language_info": {
   "codemirror_mode": {
    "name": "ipython",
    "version": 3
   },
   "file_extension": ".py",
   "mimetype": "text/x-python",
   "name": "python",
   "nbconvert_exporter": "python",
   "pygments_lexer": "ipython3",
   "version": "3.9.7"
  }
 },
 "nbformat": 4,
 "nbformat_minor": 5
}
